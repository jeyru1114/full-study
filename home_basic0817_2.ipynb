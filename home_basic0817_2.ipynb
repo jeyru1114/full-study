{
 "cells": [
  {
   "cell_type": "markdown",
   "id": "24a8aa36",
   "metadata": {},
   "source": [
    "## 딕셔너리 {dictionary}\n",
    "- 딕셔너리는 key와 value를 한쌍으로 갖는 자료형, 예시) dict=['a':1]\n",
    "- 딕셔너리는 키와 밸류로 맵핑되어 있는 순서가 없는 집합"
   ]
  },
  {
   "cell_type": "code",
   "execution_count": 1,
   "id": "d662fbdb",
   "metadata": {},
   "outputs": [],
   "source": [
    "dic_test = {'노래제목':'아무노래'}"
   ]
  },
  {
   "cell_type": "code",
   "execution_count": 2,
   "id": "085bd934",
   "metadata": {},
   "outputs": [
    {
     "data": {
      "text/plain": [
       "{'노래제목': '아무노래'}"
      ]
     },
     "execution_count": 2,
     "metadata": {},
     "output_type": "execute_result"
    }
   ],
   "source": [
    "dic_test"
   ]
  },
  {
   "cell_type": "code",
   "execution_count": 3,
   "id": "c90e2951",
   "metadata": {},
   "outputs": [
    {
     "name": "stdout",
     "output_type": "stream",
     "text": [
      "<class 'dict'>\n"
     ]
    }
   ],
   "source": [
    "print(type(dic_test))"
   ]
  },
  {
   "cell_type": "code",
   "execution_count": 4,
   "id": "e15db1d0",
   "metadata": {},
   "outputs": [
    {
     "data": {
      "text/plain": [
       "{'노래제목': '아무노래', '가수': '지코', '날짜': '2020,01.13'}"
      ]
     },
     "execution_count": 4,
     "metadata": {},
     "output_type": "execute_result"
    }
   ],
   "source": [
    "dic_test['가수']='지코'\n",
    "dic_test['날짜']='2020,01.13'\n",
    "dic_test"
   ]
  },
  {
   "cell_type": "markdown",
   "id": "6007fd7c",
   "metadata": {},
   "source": [
    "딕셔너리 값 삭제\n",
    "- del 딕셔너리명[key]"
   ]
  },
  {
   "cell_type": "code",
   "execution_count": 7,
   "id": "79bbcbcf",
   "metadata": {},
   "outputs": [
    {
     "data": {
      "text/plain": [
       "{'노래제목': '아무노래', '가수': '지코'}"
      ]
     },
     "execution_count": 7,
     "metadata": {},
     "output_type": "execute_result"
    }
   ],
   "source": [
    "del dic_test[\"날짜\"]\n",
    "dic_test"
   ]
  },
  {
   "cell_type": "markdown",
   "id": "b90a95c7",
   "metadata": {},
   "source": [
    "딕셔너리 값 가져오기\n",
    "- 딕셔너리명[key]"
   ]
  },
  {
   "cell_type": "code",
   "execution_count": 9,
   "id": "42e3dfed",
   "metadata": {},
   "outputs": [
    {
     "data": {
      "text/plain": [
       "'지코'"
      ]
     },
     "execution_count": 9,
     "metadata": {},
     "output_type": "execute_result"
    }
   ],
   "source": [
    "dic_test['가수']"
   ]
  },
  {
   "cell_type": "markdown",
   "id": "792c5c57",
   "metadata": {},
   "source": [
    "딕셔너리 값 get 으로 가져오기\n",
    "- 딕셔너리명.get(key)\n",
    "- key값으로만 가져올땐 키값이 없을경우 에러가 뜨고, get으로 가져오면 키값이 없을경우 None 으로 나옴"
   ]
  },
  {
   "cell_type": "code",
   "execution_count": 10,
   "id": "6f1bd8df",
   "metadata": {},
   "outputs": [
    {
     "data": {
      "text/plain": [
       "'지코'"
      ]
     },
     "execution_count": 10,
     "metadata": {},
     "output_type": "execute_result"
    }
   ],
   "source": [
    "dic_test.get('가수')"
   ]
  },
  {
   "cell_type": "markdown",
   "id": "8c9ac52c",
   "metadata": {},
   "source": [
    "딕셔너리 key만 가져오기\n",
    "- 딕셔너리명.keys()"
   ]
  },
  {
   "cell_type": "code",
   "execution_count": 12,
   "id": "092ee135",
   "metadata": {},
   "outputs": [
    {
     "data": {
      "text/plain": [
       "dict_keys(['노래제목', '가수'])"
      ]
     },
     "execution_count": 12,
     "metadata": {},
     "output_type": "execute_result"
    }
   ],
   "source": [
    "dic_test.keys()"
   ]
  },
  {
   "cell_type": "markdown",
   "id": "0106d75a",
   "metadata": {},
   "source": [
    "딕셔너리 리스트 형식\n",
    "- list(딕셔너리명.key()) 하면 리스트 형식으로 나옴"
   ]
  },
  {
   "cell_type": "code",
   "execution_count": 13,
   "id": "959b3c14",
   "metadata": {},
   "outputs": [
    {
     "data": {
      "text/plain": [
       "['노래제목', '가수']"
      ]
     },
     "execution_count": 13,
     "metadata": {},
     "output_type": "execute_result"
    }
   ],
   "source": [
    "list(dic_test.keys())"
   ]
  },
  {
   "cell_type": "markdown",
   "id": "d298c5dc",
   "metadata": {},
   "source": [
    "딕셔너리 value 값만 가져오기\n",
    "- 딕셔너리명.values()"
   ]
  },
  {
   "cell_type": "code",
   "execution_count": 14,
   "id": "64f055cf",
   "metadata": {},
   "outputs": [
    {
     "data": {
      "text/plain": [
       "dict_values(['아무노래', '지코'])"
      ]
     },
     "execution_count": 14,
     "metadata": {},
     "output_type": "execute_result"
    }
   ],
   "source": [
    "dic_test.values()"
   ]
  },
  {
   "cell_type": "code",
   "execution_count": 15,
   "id": "5be18865",
   "metadata": {},
   "outputs": [
    {
     "data": {
      "text/plain": [
       "['아무노래', '지코']"
      ]
     },
     "execution_count": 15,
     "metadata": {},
     "output_type": "execute_result"
    }
   ],
   "source": [
    "list(dic_test.values())"
   ]
  },
  {
   "cell_type": "markdown",
   "id": "d4131971",
   "metadata": {},
   "source": [
    "## 딕셔너리  for문 활용"
   ]
  },
  {
   "cell_type": "code",
   "execution_count": 16,
   "id": "415d2a99",
   "metadata": {},
   "outputs": [
    {
     "name": "stdout",
     "output_type": "stream",
     "text": [
      "노래제목\n",
      "가수\n"
     ]
    }
   ],
   "source": [
    "for key in dic_test.keys():\n",
    "    print(key)"
   ]
  },
  {
   "cell_type": "code",
   "execution_count": 18,
   "id": "377829c2",
   "metadata": {
    "scrolled": true
   },
   "outputs": [
    {
     "name": "stdout",
     "output_type": "stream",
     "text": [
      "아무노래\n",
      "지코\n"
     ]
    }
   ],
   "source": [
    "for value in dic_test.values():\n",
    "    print(value)"
   ]
  },
  {
   "cell_type": "markdown",
   "id": "90f60010",
   "metadata": {},
   "source": [
    "딕셔너리.items()\n",
    "- key와 value값 같이 출력"
   ]
  },
  {
   "cell_type": "code",
   "execution_count": 19,
   "id": "dbe07593",
   "metadata": {},
   "outputs": [
    {
     "name": "stdout",
     "output_type": "stream",
     "text": [
      "노래제목 아무노래\n",
      "가수 지코\n"
     ]
    }
   ],
   "source": [
    "for key, value in dic_test.items():\n",
    "    print(key, value)"
   ]
  },
  {
   "cell_type": "markdown",
   "id": "bebf23d8",
   "metadata": {},
   "source": [
    "key in 딕셔너리명\n",
    "- in은 딕셔너리의 키에 한에서 동작한다"
   ]
  },
  {
   "cell_type": "code",
   "execution_count": 20,
   "id": "4394fffb",
   "metadata": {},
   "outputs": [
    {
     "data": {
      "text/plain": [
       "True"
      ]
     },
     "execution_count": 20,
     "metadata": {},
     "output_type": "execute_result"
    }
   ],
   "source": [
    "'가수' in dic_test"
   ]
  },
  {
   "cell_type": "code",
   "execution_count": 21,
   "id": "092526e8",
   "metadata": {},
   "outputs": [
    {
     "data": {
      "text/plain": [
       "False"
      ]
     },
     "execution_count": 21,
     "metadata": {},
     "output_type": "execute_result"
    }
   ],
   "source": [
    "'지코' in dic_test"
   ]
  },
  {
   "cell_type": "markdown",
   "id": "dc7f61f8",
   "metadata": {},
   "source": [
    "딕셔너리 모두 지우기\n",
    "- 딕셔너리명.clear()"
   ]
  },
  {
   "cell_type": "code",
   "execution_count": 22,
   "id": "22ed9783",
   "metadata": {},
   "outputs": [
    {
     "data": {
      "text/plain": [
       "{}"
      ]
     },
     "execution_count": 22,
     "metadata": {},
     "output_type": "execute_result"
    }
   ],
   "source": [
    "dic_test.clear()\n",
    "dic_test"
   ]
  },
  {
   "cell_type": "markdown",
   "id": "851f4a53",
   "metadata": {},
   "source": [
    "## 함수(function)"
   ]
  },
  {
   "cell_type": "markdown",
   "id": "1fd9d369",
   "metadata": {},
   "source": [
    "데이터 전처리로 텍스트의 \"ㅋ\"을 모두 제거하고 싶을때\n",
    "- .replace(제거할것,바꾸려고하는것)"
   ]
  },
  {
   "cell_type": "code",
   "execution_count": 23,
   "id": "b448c518",
   "metadata": {},
   "outputs": [],
   "source": [
    "review_list1 =[\"윌 스미스가 하드캐리ㅋㅋㅋㅋㅋㅋ\",\n",
    "               \"쟈스민 너무 멋지고 팬 엄청나게 생길듯\"]\n",
    "review_list2 =[\"색감도 노래도 너무 화려하고 재밌었어요ㅋㅋㅋ\",\n",
    "               \"오늘부터 디즈니 팬입니다ㅋㅋㅋ\",\n",
    "               \"디즈니의 새로운해석도 놀랍고, 윌스미스도 신의한수!\"]"
   ]
  },
  {
   "cell_type": "code",
   "execution_count": 24,
   "id": "d8e582c1",
   "metadata": {
    "scrolled": true
   },
   "outputs": [
    {
     "data": {
      "text/plain": [
       "'윌 스미스가 하드캐리 '"
      ]
     },
     "execution_count": 24,
     "metadata": {},
     "output_type": "execute_result"
    }
   ],
   "source": [
    "s = \"윌 스미스가 하드캐리 ㅋㅋㅋㅋㅋㅋ\"\n",
    "s.replace(\"ㅋ\",\"\")"
   ]
  },
  {
   "cell_type": "markdown",
   "id": "31e1cd88",
   "metadata": {},
   "source": [
    "함수를 정의해서 \"ㅋ\"을 제거하는 기능을 하나로 묶어둠"
   ]
  },
  {
   "cell_type": "code",
   "execution_count": 28,
   "id": "f1cfc50d",
   "metadata": {},
   "outputs": [],
   "source": [
    "def string_replace(list_test):\n",
    "    for review in list_test:\n",
    "        print(review.replace(\"ㅋ\",\"\"))"
   ]
  },
  {
   "cell_type": "markdown",
   "id": "0c2a97b8",
   "metadata": {},
   "source": [
    "그리고 그 기능을 사용해서 결과출력"
   ]
  },
  {
   "cell_type": "code",
   "execution_count": 29,
   "id": "22107d0d",
   "metadata": {},
   "outputs": [
    {
     "name": "stdout",
     "output_type": "stream",
     "text": [
      "윌 스미스가 하드캐맄\n",
      "쟈스민 너무 멋지고 팬 엄청나게 생길듯\n",
      "색감도 노래도 너무 화려하고 재밌었어요\n",
      "오늘부터 디즈니 팬입니다\n",
      "디즈니의 새로운해석도 놀랍고, 윌스미스도 신의한수!\n"
     ]
    }
   ],
   "source": [
    "string_replace(review_list1)\n",
    "string_replace(review_list2)"
   ]
  },
  {
   "cell_type": "markdown",
   "id": "0fd225e9",
   "metadata": {},
   "source": [
    "## 함수 구조\n",
    "def 함수명(매개변수): <br>\n",
    "(들여쓰기)실행문장 <br>\n",
    "(들여쓰기)return 반환변수 <br>"
   ]
  },
  {
   "cell_type": "markdown",
   "id": "cbf08620",
   "metadata": {},
   "source": [
    "함수 예제<br>\n",
    "두수를 입력 받아서 뺀 결과를 return하는 함수를 정의하시오"
   ]
  },
  {
   "cell_type": "code",
   "execution_count": 38,
   "id": "e74eaa2b",
   "metadata": {},
   "outputs": [],
   "source": [
    "def number_minus(num1,num2):\n",
    "    result = num1 - num2\n",
    "    return result"
   ]
  },
  {
   "cell_type": "code",
   "execution_count": 39,
   "id": "5905a1bd",
   "metadata": {},
   "outputs": [
    {
     "name": "stdout",
     "output_type": "stream",
     "text": [
      "첫번째 정수 입력 >>10\n",
      "두번째 정수 입력 >>3\n"
     ]
    },
    {
     "data": {
      "text/plain": [
       "7"
      ]
     },
     "execution_count": 39,
     "metadata": {},
     "output_type": "execute_result"
    }
   ],
   "source": [
    "num1 = int(input(\"첫번째 정수 입력 >>\"))\n",
    "num2 = int(input(\"두번째 정수 입력 >>\"))\n",
    "result = number_minus(num1, num2)\n",
    "result"
   ]
  },
  {
   "cell_type": "markdown",
   "id": "347a1e88",
   "metadata": {},
   "source": [
    "문자열을 입력받아 'ㅋ'을 제거하고 return 하는 함수를 정의하시오"
   ]
  },
  {
   "cell_type": "code",
   "execution_count": 40,
   "id": "a9888be7",
   "metadata": {},
   "outputs": [],
   "source": [
    "def s_replace(s):\n",
    "    return s.replace(\"ㅋ\",\"\")"
   ]
  },
  {
   "cell_type": "code",
   "execution_count": 41,
   "id": "7bb4fdef",
   "metadata": {},
   "outputs": [
    {
     "name": "stdout",
     "output_type": "stream",
     "text": [
      "문자열 입력 >>현호바보ㅋㅋㅋㅋㅋㅋㅋㅋㅋㅋ\n"
     ]
    },
    {
     "data": {
      "text/plain": [
       "'현호바보'"
      ]
     },
     "execution_count": 41,
     "metadata": {},
     "output_type": "execute_result"
    }
   ],
   "source": [
    "s = input(\"문자열 입력 >>\")\n",
    "result = s_replace(s)\n",
    "result"
   ]
  },
  {
   "cell_type": "markdown",
   "id": "9e5be08e",
   "metadata": {},
   "source": [
    "두 수를 입력 받아서 원하는 연산을 수행하는 함수를 정의하시오"
   ]
  },
  {
   "cell_type": "code",
   "execution_count": 58,
   "id": "6eb24643",
   "metadata": {},
   "outputs": [],
   "source": [
    "def cal(num1,num2,op):\n",
    "    if op == \"+\":\n",
    "        return num1 + num2\n",
    "    elif op == \"-\":\n",
    "        return num1 - num2"
   ]
  },
  {
   "cell_type": "code",
   "execution_count": 59,
   "id": "114d4246",
   "metadata": {},
   "outputs": [
    {
     "name": "stdout",
     "output_type": "stream",
     "text": [
      "첫번째 정수 입력>>5\n",
      "두번째 정수 입력>>3\n",
      "연산자 입력(+,-) >>-\n",
      "결과 : 2\n"
     ]
    }
   ],
   "source": [
    "num1 = int(input(\"첫번째 정수 입력>>\"))\n",
    "num2 = int(input(\"두번째 정수 입력>>\"))\n",
    "op = input(\"연산자 입력(+,-) >>\")\n",
    "result = cal(num1,num2,op)\n",
    "print(f\"결과 : {result}\")"
   ]
  },
  {
   "cell_type": "markdown",
   "id": "ec1c9ccf",
   "metadata": {},
   "source": [
    "독스트링\n",
    "- 함수의 설명을 작성"
   ]
  },
  {
   "cell_type": "code",
   "execution_count": 61,
   "id": "7c0b7357",
   "metadata": {},
   "outputs": [],
   "source": [
    "def cal(num1,num2,op):\n",
    "    \"\"\"덧샘과 뺄샘을 하는 함수\"\"\"  # 해당 함수에 커서를 두고 쉬프트+탭을하면 내가 작성한 함수설명이 뜸\n",
    "    if op == \"+\":\n",
    "        return num1 + num2\n",
    "    elif op == \"-\":\n",
    "        return num1 - num2"
   ]
  },
  {
   "cell_type": "markdown",
   "id": "720b717a",
   "metadata": {},
   "source": [
    "함수 가변 매개변수(*)\n",
    "- 함수 호출시 몇개의 인수가 전달될지 알수 없다면, 사용자가 직접 매개변수의 개수를 정할 수 있도록 선언\n",
    "- def 함수명(*매개변수): <br>\n",
    "실행문장<br>\n",
    "return 반환변수"
   ]
  },
  {
   "cell_type": "code",
   "execution_count": 62,
   "id": "dc32616b",
   "metadata": {},
   "outputs": [],
   "source": [
    "def add(*args):\n",
    "    print(args)\n",
    "# 전달된 모든 인수는 튜플(tuple)의 형태로 저장"
   ]
  },
  {
   "cell_type": "code",
   "execution_count": 63,
   "id": "19abc7bb",
   "metadata": {},
   "outputs": [
    {
     "name": "stdout",
     "output_type": "stream",
     "text": [
      "(1, 2, 3)\n"
     ]
    }
   ],
   "source": [
    "add(1,2,3)"
   ]
  },
  {
   "cell_type": "code",
   "execution_count": 64,
   "id": "8a9cc34b",
   "metadata": {},
   "outputs": [
    {
     "name": "stdout",
     "output_type": "stream",
     "text": [
      "(1, 2, 3, 4, 5, 6, 7, 8, 9, 10)\n"
     ]
    }
   ],
   "source": [
    "add(1,2,3,4,5,6,7,8,9,10)"
   ]
  },
  {
   "cell_type": "code",
   "execution_count": 65,
   "id": "4c8d85db",
   "metadata": {},
   "outputs": [
    {
     "name": "stdout",
     "output_type": "stream",
     "text": [
      "<class 'function'>\n"
     ]
    }
   ],
   "source": [
    "print(type(add))"
   ]
  },
  {
   "cell_type": "markdown",
   "id": "6a577d96",
   "metadata": {},
   "source": [
    "가변 매개변수를 활용해 모든 숫자를 더해서 반환하는 함수를 작성하시오"
   ]
  },
  {
   "cell_type": "code",
   "execution_count": 79,
   "id": "69e81984",
   "metadata": {},
   "outputs": [],
   "source": [
    "def add(*args):\n",
    "    number_sum=0\n",
    "    for i in args:\n",
    "        number_sum += i\n",
    "    return number_sum"
   ]
  },
  {
   "cell_type": "code",
   "execution_count": 80,
   "id": "149b2100",
   "metadata": {},
   "outputs": [
    {
     "data": {
      "text/plain": [
       "6"
      ]
     },
     "execution_count": 80,
     "metadata": {},
     "output_type": "execute_result"
    }
   ],
   "source": [
    "add(1,2,3)"
   ]
  },
  {
   "cell_type": "code",
   "execution_count": 81,
   "id": "c569253f",
   "metadata": {},
   "outputs": [
    {
     "data": {
      "text/plain": [
       "60"
      ]
     },
     "execution_count": 81,
     "metadata": {},
     "output_type": "execute_result"
    }
   ],
   "source": [
    "add(10,20,30)"
   ]
  },
  {
   "cell_type": "markdown",
   "id": "27ea8d05",
   "metadata": {},
   "source": [
    "## 가변 매개변수 (**) 딕셔너리형태\n",
    "- 딕셔너리 형태로 함수 내부에서 처리하고 싶을때"
   ]
  },
  {
   "cell_type": "code",
   "execution_count": 82,
   "id": "d5ce88d9",
   "metadata": {},
   "outputs": [],
   "source": [
    "def dic(**kwargs):\n",
    "    for key,value in kwargs.items():\n",
    "        print(key,value)"
   ]
  },
  {
   "cell_type": "code",
   "execution_count": 83,
   "id": "e55939c3",
   "metadata": {},
   "outputs": [
    {
     "name": "stdout",
     "output_type": "stream",
     "text": [
      "a 1\n"
     ]
    }
   ],
   "source": [
    "dic(a=1)"
   ]
  },
  {
   "cell_type": "code",
   "execution_count": 85,
   "id": "13e2fe83",
   "metadata": {},
   "outputs": [
    {
     "name": "stdout",
     "output_type": "stream",
     "text": [
      "a 1\n",
      "b 2\n"
     ]
    }
   ],
   "source": [
    "dic(a=1,b=2)"
   ]
  },
  {
   "cell_type": "code",
   "execution_count": 86,
   "id": "53fde2f3",
   "metadata": {},
   "outputs": [
    {
     "name": "stdout",
     "output_type": "stream",
     "text": [
      "<class 'function'>\n"
     ]
    }
   ],
   "source": [
    "print(type(dic))"
   ]
  }
 ],
 "metadata": {
  "kernelspec": {
   "display_name": "Python 3 (ipykernel)",
   "language": "python",
   "name": "python3"
  },
  "language_info": {
   "codemirror_mode": {
    "name": "ipython",
    "version": 3
   },
   "file_extension": ".py",
   "mimetype": "text/x-python",
   "name": "python",
   "nbconvert_exporter": "python",
   "pygments_lexer": "ipython3",
   "version": "3.11.4"
  }
 },
 "nbformat": 4,
 "nbformat_minor": 5
}
