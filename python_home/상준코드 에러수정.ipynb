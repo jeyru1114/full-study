{
 "cells": [
  {
   "cell_type": "markdown",
   "id": "23b4a6bf",
   "metadata": {},
   "source": [
    "상준이 에러난 코드를 강사님 영상보고 수정해봄"
   ]
  },
  {
   "cell_type": "code",
   "execution_count": 1,
   "id": "39be8224",
   "metadata": {},
   "outputs": [],
   "source": [
    "from sympy import *\n",
    "import numpy as np"
   ]
  },
  {
   "cell_type": "code",
   "execution_count": 2,
   "id": "d7f8980f",
   "metadata": {},
   "outputs": [],
   "source": [
    "x = symbols('x') # sympy x 정의"
   ]
  },
  {
   "cell_type": "code",
   "execution_count": 3,
   "id": "0c4412e6",
   "metadata": {},
   "outputs": [],
   "source": [
    "x_1 = np.array([i for i in np.arange(-10,10,0.01)]) # numpy x_ 정의 (sympy와 같은 이름으로하면 충돌남)"
   ]
  },
  {
   "cell_type": "code",
   "execution_count": 4,
   "id": "ee244f2a",
   "metadata": {},
   "outputs": [],
   "source": [
    "f_sym = [x**2 + 3*x + 6] # 우리가 미분하고 싶은 식을 f에 지정 (sympy data)"
   ]
  },
  {
   "cell_type": "code",
   "execution_count": 18,
   "id": "30b08e84",
   "metadata": {},
   "outputs": [],
   "source": [
    "f_num = lambda x_1: x_1 * x_1 + 3 * x_1 + 6 \n",
    " # x^2 + 3*x + 6 이라는 이차 방정식을 변수로 생성한다. (numpy data)"
   ]
  },
  {
   "cell_type": "markdown",
   "id": "97cf57ad",
   "metadata": {},
   "source": [
    "> 위에 부분에서 계속 f_num = x_1: x_1 * x_1 + 3 * x_1 + 6 라고 하였으나 에러가나서 <br>\n",
    "강사님이 쓰셨던 lambda 식으로 변경하니까 에러가 나지 않았음"
   ]
  },
  {
   "cell_type": "code",
   "execution_count": 7,
   "id": "bae9a8d1",
   "metadata": {},
   "outputs": [],
   "source": [
    "def sangjun_diff1(f, a, h = 0.000001): # 미분을 정의하는 함수를 만든다.\n",
    "    return (f(a+h) - f(a))/h # h = 0과 근접해야 하기에 0과 최대한 근접한 상수로 선언"
   ]
  },
  {
   "cell_type": "code",
   "execution_count": 8,
   "id": "fadcffb3",
   "metadata": {
    "scrolled": false
   },
   "outputs": [
    {
     "data": {
      "text/plain": [
       "[2*x + 3]"
      ]
     },
     "execution_count": 8,
     "metadata": {},
     "output_type": "execute_result"
    }
   ],
   "source": [
    "f_prime = [diff(i,x)for i in f_sym] # 미분한다는 변수로 f_prime을 설정하고 diff로 미분을 진행한다.\n",
    "f_prime # 미분되어 결과가 나옴"
   ]
  },
  {
   "cell_type": "code",
   "execution_count": 9,
   "id": "8e0bb613",
   "metadata": {
    "scrolled": false
   },
   "outputs": [
    {
     "data": {
      "text/plain": [
       "[array([-17.  , -16.98, -16.96, ...,  22.94,  22.96,  22.98])]"
      ]
     },
     "execution_count": 9,
     "metadata": {},
     "output_type": "execute_result"
    }
   ],
   "source": [
    "f_prime= [2*x_1+3] # 위에 sympy 미분한것을 numpy 데이터식으로 변경\n",
    "f_prime "
   ]
  },
  {
   "cell_type": "code",
   "execution_count": 20,
   "id": "a4a515f8",
   "metadata": {
    "scrolled": false
   },
   "outputs": [
    {
     "data": {
      "text/plain": [
       "[array([-16.99999899, -16.97999899, -16.95999899, ...,  22.94000097,\n",
       "         22.96000096,  22.98000101])]"
      ]
     },
     "execution_count": 20,
     "metadata": {},
     "output_type": "execute_result"
    }
   ],
   "source": [
    "f_prime_2 = [sangjun_diff1(f_num, x_1)] # 미분함수로 numpy 데이터를 이용하여 미분결과를 f_prime_2에 저장\n",
    "f_prime_2"
   ]
  },
  {
   "cell_type": "code",
   "execution_count": 25,
   "id": "74172fff",
   "metadata": {
    "scrolled": true
   },
   "outputs": [
    {
     "name": "stdout",
     "output_type": "stream",
     "text": [
      "-17.0 -16.999998990741005\n"
     ]
    }
   ],
   "source": [
    "print(f_prime[0][0], f_prime_2[0][0]) # 각 리스트의 0번째 값을 출력해보고"
   ]
  },
  {
   "cell_type": "code",
   "execution_count": 27,
   "id": "ebfef869",
   "metadata": {
    "scrolled": false
   },
   "outputs": [
    {
     "name": "stdout",
     "output_type": "stream",
     "text": [
      "True\n"
     ]
    }
   ],
   "source": [
    "print(abs(f_prime[0][0]-f_prime_2[0][0])<0.0001) # 같은값인지 확인해봄"
   ]
  },
  {
   "cell_type": "markdown",
   "id": "eb862600",
   "metadata": {},
   "source": [
    "> 이제 남은 데이터들을 같은값인지 확인해봄"
   ]
  },
  {
   "cell_type": "code",
   "execution_count": 28,
   "id": "96054c8c",
   "metadata": {
    "scrolled": true
   },
   "outputs": [
    {
     "data": {
      "text/plain": [
       "0"
      ]
     },
     "execution_count": 28,
     "metadata": {},
     "output_type": "execute_result"
    }
   ],
   "source": [
    "prime_True_list = []\n",
    "for i,j in zip(f_prime, f_prime_2) :\n",
    "    prime_True_list.append([False if abs(s_i - s_j) < 100 else True for s_i, s_j in zip(i,j)])\n",
    "sum([sum(i) for i in prime_True_list])\n",
    " # 상준이가 짠 코드로 확인하였을때 결과값이 0이여서 같다는걸 알수있음"
   ]
  },
  {
   "cell_type": "code",
   "execution_count": 31,
   "id": "4ed1a921",
   "metadata": {},
   "outputs": [
    {
     "name": "stdout",
     "output_type": "stream",
     "text": [
      "0\n"
     ]
    }
   ],
   "source": [
    "for i, j in zip(f_prime, f_prime_2): \n",
    "    print(sum([not abs(i_1-j_1)<1000 for i_1,j_1 in zip(i,j)]))\n",
    "    # 강사님이 유튜브로 알려주신 방법으로도 확인하였을때 결과값이 0 이어서 같다는걸 알수있음"
   ]
  }
 ],
 "metadata": {
  "kernelspec": {
   "display_name": "Python 3 (ipykernel)",
   "language": "python",
   "name": "python3"
  },
  "language_info": {
   "codemirror_mode": {
    "name": "ipython",
    "version": 3
   },
   "file_extension": ".py",
   "mimetype": "text/x-python",
   "name": "python",
   "nbconvert_exporter": "python",
   "pygments_lexer": "ipython3",
   "version": "3.11.4"
  }
 },
 "nbformat": 4,
 "nbformat_minor": 5
}
