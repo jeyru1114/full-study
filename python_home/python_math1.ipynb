{
 "cells": [
  {
   "cell_type": "code",
   "execution_count": 1,
   "id": "ce1a071b",
   "metadata": {},
   "outputs": [],
   "source": [
    "from sympy import *"
   ]
  },
  {
   "cell_type": "code",
   "execution_count": 3,
   "id": "880eb360",
   "metadata": {},
   "outputs": [],
   "source": [
    "import numpy as np"
   ]
  },
  {
   "cell_type": "markdown",
   "id": "aacd31d7",
   "metadata": {},
   "source": [
    "[sympy로 수학공부](https://docs.sympy.org/latest/tutorials/intro-tutorial/calculus.html)"
   ]
  },
  {
   "cell_type": "code",
   "execution_count": 2,
   "id": "b1e7dbc2",
   "metadata": {},
   "outputs": [],
   "source": [
    "x , y , z = symbols('x y z')"
   ]
  },
  {
   "cell_type": "code",
   "execution_count": 56,
   "id": "87f3ca4b",
   "metadata": {},
   "outputs": [],
   "source": [
    "x_1 = np.array([i for i in np.arange(-10,10,0.01)]) # symbols 과 np에서 x쓴게 충돌남\n",
    "y1 = [i*i+2*i+5 for i in x_1]\n",
    "y2 = [3*i*i+4 for i in x_1]\n",
    "y3 = [2*i*i+6*i+5 for i in x_1]"
   ]
  },
  {
   "cell_type": "code",
   "execution_count": 19,
   "id": "a964cfe1",
   "metadata": {},
   "outputs": [],
   "source": [
    "funcs_sym = [x**2+2*x+5, 3*x**2+4, 2*x**3+6*x+5] # sympy data"
   ]
  },
  {
   "cell_type": "code",
   "execution_count": 97,
   "id": "4bdd1f44",
   "metadata": {
    "scrolled": false
   },
   "outputs": [],
   "source": [
    "funcs_num = [lambda x_1 : x_1*x_1+2*x_1+5,\n",
    "            lambda x_1 : 3*x_1*x_1+4,\n",
    "            lambda x_1 : 2*x_1*x_1+6*x_1+5] # numpy data"
   ]
  },
  {
   "cell_type": "code",
   "execution_count": 24,
   "id": "75a6346e",
   "metadata": {},
   "outputs": [],
   "source": [
    "def derivative(f,x,h=0.000001): # 미분의 정의\n",
    "    return (f(x+h) - f(x))/h"
   ]
  },
  {
   "cell_type": "code",
   "execution_count": 76,
   "id": "e9fc35b5",
   "metadata": {
    "scrolled": true
   },
   "outputs": [
    {
     "data": {
      "text/plain": [
       "[2*x + 2, 6*x, 6*x**2 + 6]"
      ]
     },
     "execution_count": 76,
     "metadata": {},
     "output_type": "execute_result"
    }
   ],
   "source": [
    "sym_derivate = [diff(f,x) for f in funcs_sym] # sympy로 미분\n",
    "sym_derivate"
   ]
  },
  {
   "cell_type": "code",
   "execution_count": 86,
   "id": "bc82d74b",
   "metadata": {
    "scrolled": true
   },
   "outputs": [
    {
     "data": {
      "text/plain": [
       "[array([-18.  , -17.98, -17.96, ...,  21.94,  21.96,  21.98]),\n",
       " array([-60.  , -59.94, -59.88, ...,  59.82,  59.88,  59.94]),\n",
       " array([606.    , 604.8006, 603.6024, ..., 602.4054, 603.6024, 604.8006])]"
      ]
     },
     "execution_count": 86,
     "metadata": {},
     "output_type": "execute_result"
    }
   ],
   "source": [
    "sym_derivate = [2*x_1 + 2, 6*x_1, 6*x_1*x_1 + 6] # numpy용 데이터로 변경\n",
    "sym_derivate"
   ]
  },
  {
   "cell_type": "code",
   "execution_count": 93,
   "id": "6509c073",
   "metadata": {
    "scrolled": false
   },
   "outputs": [
    {
     "data": {
      "text/plain": [
       "[array([-17.99999899, -17.97999897, -17.95999897, ...,  21.94000098,\n",
       "         21.96000099,  21.98000098]),\n",
       " array([-59.99999695, -59.93999696, -59.87999697, ...,  59.820003  ,\n",
       "         59.88000294,  59.94000298]),\n",
       " array([-33.99999798, -33.95999798, -33.91999797, ...,  45.88000195,\n",
       "         45.92000192,  45.96000201])]"
      ]
     },
     "execution_count": 93,
     "metadata": {},
     "output_type": "execute_result"
    }
   ],
   "source": [
    "numpy_derivate = [derivative(f_1,x_1) for f_1 in funcs_num] \n",
    "# numpy데이터로 만든 derivative(미분함수)로 미분\n",
    "numpy_derivate"
   ]
  },
  {
   "cell_type": "markdown",
   "id": "77ae0137",
   "metadata": {},
   "source": [
    "## 내가 놓친 부분\n",
    "> funcs_num를 그냥 리스트로 저장하였을땐 에러가났었는데<br>\n",
    "lamda식으로하니까 에러가 나지 않았던이유는 <br>\n",
    "derivative 함수에서 첫번째 인자로 받는 (f부분)것은 함수여야 하기 때문이었음<br>\n",
    "때문에 lambda로 했을경우 함수가되어 에러가 발생하지 않았고<br>\n",
    "일반 리스트면 함수가 아니기때문에 에러가 발생하였음<br>\n",
    "funcs_num을 일반 함수로 정의해도 가능함"
   ]
  },
  {
   "cell_type": "code",
   "execution_count": 33,
   "id": "3be1877e",
   "metadata": {
    "scrolled": true
   },
   "outputs": [
    {
     "name": "stdout",
     "output_type": "stream",
     "text": [
      "-17.999998988216248 -18.0\n"
     ]
    }
   ],
   "source": [
    "print(numpy_derivate[0][0], sym_derivate[0][0]) "
   ]
  },
  {
   "cell_type": "code",
   "execution_count": 35,
   "id": "34221af7",
   "metadata": {
    "scrolled": false
   },
   "outputs": [
    {
     "name": "stdout",
     "output_type": "stream",
     "text": [
      "True\n"
     ]
    }
   ],
   "source": [
    "print(abs(numpy_derivate[0][0]-sym_derivate[0][0])<0.0001) #위에 값이 같은지 확인"
   ]
  },
  {
   "cell_type": "code",
   "execution_count": 44,
   "id": "9809d610",
   "metadata": {
    "scrolled": true
   },
   "outputs": [
    {
     "name": "stdout",
     "output_type": "stream",
     "text": [
      "0\n",
      "0\n",
      "0\n"
     ]
    }
   ],
   "source": [
    "for i, j in zip(sym_derivate, numpy_derivate): \n",
    "    print(sum([not abs(i_1-j_1)<1000 for i_1,j_1 in zip(i,j)]))"
   ]
  },
  {
   "cell_type": "code",
   "execution_count": 46,
   "id": "33b6e101",
   "metadata": {
    "scrolled": true
   },
   "outputs": [
    {
     "data": {
      "text/latex": [
       "$\\displaystyle x^{2} + 3 x + 2$"
      ],
      "text/plain": [
       "x**2 + 3*x + 2"
      ]
     },
     "execution_count": 46,
     "metadata": {},
     "output_type": "execute_result"
    }
   ],
   "source": [
    "f = x**2 + 3*x+2\n",
    "f"
   ]
  },
  {
   "cell_type": "code",
   "execution_count": 47,
   "id": "2b8ae2b4",
   "metadata": {
    "scrolled": true
   },
   "outputs": [
    {
     "data": {
      "text/latex": [
       "$\\displaystyle 2 x + 3$"
      ],
      "text/plain": [
       "2*x + 3"
      ]
     },
     "execution_count": 47,
     "metadata": {},
     "output_type": "execute_result"
    }
   ],
   "source": [
    "diff(f,x) #미분"
   ]
  },
  {
   "cell_type": "code",
   "execution_count": 48,
   "id": "2f9d7afe",
   "metadata": {
    "scrolled": true
   },
   "outputs": [
    {
     "data": {
      "text/plain": [
       "[-2, -1]"
      ]
     },
     "execution_count": 48,
     "metadata": {},
     "output_type": "execute_result"
    }
   ],
   "source": [
    "solve(f, x) # solve 문제를 풀다"
   ]
  },
  {
   "cell_type": "code",
   "execution_count": 49,
   "id": "560eec1b",
   "metadata": {
    "scrolled": true
   },
   "outputs": [
    {
     "name": "stdout",
     "output_type": "stream",
     "text": [
      "0\n",
      "0\n"
     ]
    }
   ],
   "source": [
    "for i in [-2, -1]:\n",
    "    print(i*i +3*i+2)"
   ]
  },
  {
   "cell_type": "code",
   "execution_count": 50,
   "id": "6a9a4cd5",
   "metadata": {},
   "outputs": [],
   "source": [
    "theta = symbols('theta')"
   ]
  },
  {
   "cell_type": "code",
   "execution_count": 51,
   "id": "53f5b89b",
   "metadata": {},
   "outputs": [
    {
     "data": {
      "text/latex": [
       "$\\displaystyle \\cos{\\left(\\theta \\right)}$"
      ],
      "text/plain": [
       "cos(theta)"
      ]
     },
     "execution_count": 51,
     "metadata": {},
     "output_type": "execute_result"
    }
   ],
   "source": [
    "cos(theta)"
   ]
  },
  {
   "cell_type": "code",
   "execution_count": 52,
   "id": "a82389ce",
   "metadata": {},
   "outputs": [
    {
     "data": {
      "text/latex": [
       "$\\displaystyle \\cos{\\left(45 \\right)}$"
      ],
      "text/plain": [
       "cos(45)"
      ]
     },
     "execution_count": 52,
     "metadata": {},
     "output_type": "execute_result"
    }
   ],
   "source": [
    "theta = 45\n",
    "cos(theta)"
   ]
  },
  {
   "cell_type": "code",
   "execution_count": 53,
   "id": "42246b33",
   "metadata": {},
   "outputs": [
    {
     "data": {
      "text/latex": [
       "$\\displaystyle \\sin{\\left(45 \\right)}$"
      ],
      "text/plain": [
       "sin(45)"
      ]
     },
     "execution_count": 53,
     "metadata": {},
     "output_type": "execute_result"
    }
   ],
   "source": [
    "sin(theta)"
   ]
  },
  {
   "cell_type": "code",
   "execution_count": 54,
   "id": "6a8e1f2f",
   "metadata": {},
   "outputs": [],
   "source": [
    "import matplotlib.pyplot as plt"
   ]
  },
  {
   "cell_type": "code",
   "execution_count": 58,
   "id": "765976e1",
   "metadata": {
    "scrolled": true
   },
   "outputs": [
    {
     "data": {
      "text/plain": [
       "[<matplotlib.lines.Line2D at 0x20880468f90>]"
      ]
     },
     "execution_count": 58,
     "metadata": {},
     "output_type": "execute_result"
    },
    {
     "data": {
      "image/png": "[encoded data removed]",
      "text/plain": [
       "<Figure size 640x480 with 1 Axes>"
      ]
     },
     "metadata": {},
     "output_type": "display_data"
    }
   ],
   "source": [
    "plt.plot(x_1, y1)"
   ]
  },
  {
   "cell_type": "code",
   "execution_count": 59,
   "id": "fda97066",
   "metadata": {
    "scrolled": false
   },
   "outputs": [
    {
     "data": {
      "text/plain": [
       "[<matplotlib.lines.Line2D at 0x208806b7fd0>]"
      ]
     },
     "execution_count": 59,
     "metadata": {},
     "output_type": "execute_result"
    },
    {
     "data": {
      "image/png": "[encoded data removed]",
      "text/plain": [
       "<Figure size 640x480 with 1 Axes>"
      ]
     },
     "metadata": {},
     "output_type": "display_data"
    }
   ],
   "source": [
    "plt.plot(x_1, y2)"
   ]
  },
  {
   "cell_type": "code",
   "execution_count": 60,
   "id": "f893cd02",
   "metadata": {
    "scrolled": true
   },
   "outputs": [
    {
     "data": {
      "text/plain": [
       "[<matplotlib.lines.Line2D at 0x20880739210>]"
      ]
     },
     "execution_count": 60,
     "metadata": {},
     "output_type": "execute_result"
    },
    {
     "data": {
      "image/png": "[encoded data removed]",
      "text/plain": [
       "<Figure size 640x480 with 1 Axes>"
      ]
     },
     "metadata": {},
     "output_type": "display_data"
    }
   ],
   "source": [
    "plt.plot(x_1, y3)"
   ]
  },
  {
   "cell_type": "code",
   "execution_count": 82,
   "id": "329f8183",
   "metadata": {},
   "outputs": [],
   "source": [
    "funcs_sym_1 = [x**2+2*x+5, 3*x**2+4, 2*x**3+6*x+5] # sympy data"
   ]
  },
  {
   "cell_type": "code",
   "execution_count": 83,
   "id": "94c800f8",
   "metadata": {
    "scrolled": false
   },
   "outputs": [
    {
     "name": "stdout",
     "output_type": "stream",
     "text": [
      "x**2 + 2*x + 5\n",
      "3*x**2 + 4\n",
      "2*x**3 + 6*x + 5\n"
     ]
    },
    {
     "data": {
      "text/plain": [
       "[2*x + 2, 6*x, 6*x**2 + 6]"
      ]
     },
     "execution_count": 83,
     "metadata": {},
     "output_type": "execute_result"
    }
   ],
   "source": [
    "values = []\n",
    "for f_1 in funcs_sym_1: # diff는 미분\n",
    "    print(f_1)\n",
    "    values.append(diff(f_1,x))\n",
    "values"
   ]
  },
  {
   "cell_type": "code",
   "execution_count": 85,
   "id": "5a17104e",
   "metadata": {},
   "outputs": [
    {
     "data": {
      "text/plain": [
       "[array([-18.  , -17.98, -17.96, ...,  21.94,  21.96,  21.98]),\n",
       " array([-60.  , -59.94, -59.88, ...,  59.82,  59.88,  59.94]),\n",
       " array([606.    , 604.8006, 603.6024, ..., 602.4054, 603.6024, 604.8006])]"
      ]
     },
     "execution_count": 85,
     "metadata": {},
     "output_type": "execute_result"
    }
   ],
   "source": [
    "values = [2*x_1 + 2, 6*x_1, 6*x_1*x_1 + 6]\n",
    "values"
   ]
  }
 ],
 "metadata": {
  "kernelspec": {
   "display_name": "Python 3 (ipykernel)",
   "language": "python",
   "name": "python3"
  },
  "language_info": {
   "codemirror_mode": {
    "name": "ipython",
    "version": 3
   },
   "file_extension": ".py",
   "mimetype": "text/x-python",
   "name": "python",
   "nbconvert_exporter": "python",
   "pygments_lexer": "ipython3",
   "version": "3.11.4"
  }
 },
 "nbformat": 4,
 "nbformat_minor": 5
}
