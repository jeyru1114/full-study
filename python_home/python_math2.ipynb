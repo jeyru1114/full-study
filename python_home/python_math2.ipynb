{
 "cells": [
  {
   "cell_type": "code",
   "execution_count": 1,
   "id": "03b67ee8",
   "metadata": {},
   "outputs": [],
   "source": [
    "from sympy import *"
   ]
  },
  {
   "cell_type": "code",
   "execution_count": 2,
   "id": "2729d338",
   "metadata": {},
   "outputs": [],
   "source": [
    "import numpy as np"
   ]
  },
  {
   "cell_type": "code",
   "execution_count": 3,
   "id": "fcac3484",
   "metadata": {},
   "outputs": [],
   "source": [
    "x, y, z = symbols('x y z')\n",
    "theta = symbols('theta')"
   ]
  },
  {
   "cell_type": "code",
   "execution_count": 7,
   "id": "f20d82a9",
   "metadata": {},
   "outputs": [
    {
     "data": {
      "text/latex": [
       "$\\displaystyle \\left[\\begin{matrix}x^{2} \\cos{\\left(\\theta \\right)} & x^{3} \\sin{\\left(\\theta \\right)}\\\\\\left(x^{2} + 2 x\\right) \\cos{\\left(\\theta \\right)} & 2 x^{2}\\end{matrix}\\right]$"
      ],
      "text/plain": [
       "Matrix([\n",
       "[        x**2*cos(theta), x**3*sin(theta)],\n",
       "[(x**2 + 2*x)*cos(theta),          2*x**2]])"
      ]
     },
     "execution_count": 7,
     "metadata": {},
     "output_type": "execute_result"
    }
   ],
   "source": [
    "f_max = Matrix([[cos(theta)*x**2, sin(theta)*x**3],\n",
    "               [(x**2+2*x)*cos(theta), 2*x**2]])\n",
    "# 리스트안에 4개의 요소를 가진 f_max라는 이름의 변수에 담은 Matrix (행렬)\n",
    "f_max"
   ]
  },
  {
   "cell_type": "markdown",
   "id": "ecb1972a",
   "metadata": {},
   "source": [
    "$$ \\frac{\\partial^2 f}{{\\partial \\theta}{\\partial x}} $$\n",
    "\n",
    "$$ 아래 코드를 마크다운 수식으로 $$"
   ]
  },
  {
   "cell_type": "code",
   "execution_count": 6,
   "id": "d18919c6",
   "metadata": {
    "scrolled": true
   },
   "outputs": [
    {
     "data": {
      "text/latex": [
       "$\\displaystyle \\left[\\begin{matrix}- 2 x \\sin{\\left(\\theta \\right)} & 3 x^{2} \\cos{\\left(\\theta \\right)}\\\\- 2 \\left(x + 1\\right) \\sin{\\left(\\theta \\right)} & 0\\end{matrix}\\right]$"
      ],
      "text/plain": [
       "Matrix([\n",
       "[      -2*x*sin(theta), 3*x**2*cos(theta)],\n",
       "[-2*(x + 1)*sin(theta),                 0]])"
      ]
     },
     "execution_count": 6,
     "metadata": {},
     "output_type": "execute_result"
    }
   ],
   "source": [
    "f_2 = diff(f_max, theta, x) \n",
    "f_2\n",
    "# f_max 행렬을 theta로 먼저 미분하고, 그다음 x로 미분한것을 f_2에 담음\n",
    "# 무언가로 계속 미분할때 ,(콤마)로 구분지어서 계속 추가하면 됨"
   ]
  },
  {
   "cell_type": "code",
   "execution_count": 8,
   "id": "ab219682",
   "metadata": {
    "scrolled": true
   },
   "outputs": [
    {
     "data": {
      "text/latex": [
       "$\\displaystyle \\left[\\begin{matrix}- 2 \\cos{\\left(\\theta \\right)} & - 6 x \\sin{\\left(\\theta \\right)}\\\\- 2 \\cos{\\left(\\theta \\right)} & 0\\end{matrix}\\right]$"
      ],
      "text/plain": [
       "Matrix([\n",
       "[-2*cos(theta), -6*x*sin(theta)],\n",
       "[-2*cos(theta),               0]])"
      ]
     },
     "execution_count": 8,
     "metadata": {},
     "output_type": "execute_result"
    }
   ],
   "source": [
    "f_3 = diff(f_2, x, theta)\n",
    "f_3\n",
    "# f_2의 행렬을 다시 먼저 x로 미분하고, 그다음 theta로 미분하여 f_3에 담음 "
   ]
  },
  {
   "cell_type": "code",
   "execution_count": null,
   "id": "890275ed",
   "metadata": {},
   "outputs": [],
   "source": []
  }
 ],
 "metadata": {
  "kernelspec": {
   "display_name": "Python 3 (ipykernel)",
   "language": "python",
   "name": "python3"
  },
  "language_info": {
   "codemirror_mode": {
    "name": "ipython",
    "version": 3
   },
   "file_extension": ".py",
   "mimetype": "text/x-python",
   "name": "python",
   "nbconvert_exporter": "python",
   "pygments_lexer": "ipython3",
   "version": "3.11.4"
  }
 },
 "nbformat": 4,
 "nbformat_minor": 5
}
