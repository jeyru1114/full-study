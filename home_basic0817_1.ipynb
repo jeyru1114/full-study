{
 "cells": [
  {
   "cell_type": "code",
   "execution_count": 8,
   "id": "6d764849",
   "metadata": {
    "scrolled": true
   },
   "outputs": [
    {
     "name": "stdout",
     "output_type": "stream",
     "text": [
      "정수를 입력하세요 >>33\n",
      "33은 홀수입니다\n"
     ]
    }
   ],
   "source": [
    "a = int(input(\"정수를 입력하세요 >>\"))\n",
    "result = \"짝수\" if a%2==0 else \"홀수\"\n",
    "print(\"{}은 {}입니다\".format(a,result))"
   ]
  },
  {
   "cell_type": "code",
   "execution_count": 10,
   "id": "0d866662",
   "metadata": {},
   "outputs": [
    {
     "name": "stdout",
     "output_type": "stream",
     "text": [
      "첫번째 정수입력 >>3\n",
      "두번째 정수입력 >>5\n",
      "두수의 차 : 2\n"
     ]
    }
   ],
   "source": [
    "num1 = int(input(\"첫번째 정수입력 >>\"))\n",
    "num2 = int(input(\"두번째 정수입력 >>\"))\n",
    "result = num1-num2 if num1>num2 else num2-num1\n",
    "print(\"두수의 차 : {}\".format(result))"
   ]
  },
  {
   "cell_type": "markdown",
   "id": "f4eb2873",
   "metadata": {},
   "source": [
    "## if문 실습예제"
   ]
  },
  {
   "cell_type": "code",
   "execution_count": 13,
   "id": "c2738bc0",
   "metadata": {
    "scrolled": true
   },
   "outputs": [
    {
     "name": "stdout",
     "output_type": "stream",
     "text": [
      "돈이 얼마있습니까 >>5000\n",
      "버스를 탄다\n"
     ]
    }
   ],
   "source": [
    "money = int(input(\"돈이 얼마있습니까 >>\"))\n",
    "result = \"택시를 탄다\" if money>=10000 else \"버스를 탄다\"\n",
    "print(result)"
   ]
  },
  {
   "cell_type": "code",
   "execution_count": 17,
   "id": "a735e777",
   "metadata": {
    "scrolled": true
   },
   "outputs": [
    {
     "name": "stdout",
     "output_type": "stream",
     "text": [
      "돈이 얼마있습니까 >>11000\n",
      "택시를 탄다\n"
     ]
    }
   ],
   "source": [
    "money = int(input(\"돈이 얼마있습니까 >>\"))\n",
    "if money>=10000 :\n",
    "    print(\"택시를 탄다\")\n",
    "else :\n",
    "    print(\"버스를 탄다\")"
   ]
  },
  {
   "cell_type": "markdown",
   "id": "438ab0f5",
   "metadata": {},
   "source": [
    "## elif 실습예제"
   ]
  },
  {
   "cell_type": "code",
   "execution_count": 21,
   "id": "45fd58ec",
   "metadata": {},
   "outputs": [
    {
     "name": "stdout",
     "output_type": "stream",
     "text": [
      "첫번째 정수입력 >>1\n",
      "두번째 정수입력 >>3\n",
      "두번째 정수가 더 큽니다\n"
     ]
    }
   ],
   "source": [
    "num1 = int(input(\"첫번째 정수입력 >>\"))\n",
    "num2 = int(input(\"두번째 정수입력 >>\"))\n",
    "if num1>num2 :\n",
    "    print(\"첫번째 정수가 더 큽니다\")\n",
    "elif num1==num2:\n",
    "    print(\"두 수가 똑같습니다\")\n",
    "else :\n",
    "    print(\"두번째 정수가 더 큽니다\")"
   ]
  },
  {
   "cell_type": "markdown",
   "id": "df7e9d61",
   "metadata": {},
   "source": [
    "## score 실습예제"
   ]
  },
  {
   "cell_type": "code",
   "execution_count": 32,
   "id": "99998692",
   "metadata": {
    "scrolled": true
   },
   "outputs": [
    {
     "name": "stdout",
     "output_type": "stream",
     "text": [
      "점수를 입력하세요65\n",
      "65점은 D학점 입니다\n"
     ]
    }
   ],
   "source": [
    "score = int(input(\"점수를 입력하세요\"))\n",
    "if 100>= score >= 90:\n",
    "    result = \"A\"\n",
    "elif 90>= score >= 80:\n",
    "    result = \"B\"\n",
    "elif 80>= score >= 70:\n",
    "    result = \"C\"\n",
    "elif 70>= score >= 60:\n",
    "    result = \"D\"\n",
    "else :\n",
    "    result = \"F\"\n",
    "\n",
    "print(\"{}점은 {}학점 입니다\".format(score,result))"
   ]
  },
  {
   "cell_type": "markdown",
   "id": "57ddbadc",
   "metadata": {},
   "source": [
    "## list 실습 예제 [ , , , ]"
   ]
  },
  {
   "cell_type": "markdown",
   "id": "d438dd2a",
   "metadata": {},
   "source": [
    "인덱싱 (indexing)\n",
    "- 무엇인가를 '가리킨다'는 의미\n",
    "\n",
    "슬라이싱(Slicing)\n",
    "- 무엇인가를 '잘라낸다'는 의미"
   ]
  },
  {
   "cell_type": "markdown",
   "id": "c7103d08",
   "metadata": {},
   "source": [
    "## 리스트[인덱스]\n",
    "- 인덱스에 위치한 값 반환"
   ]
  },
  {
   "cell_type": "code",
   "execution_count": 33,
   "id": "c5dafef2",
   "metadata": {},
   "outputs": [
    {
     "name": "stdout",
     "output_type": "stream",
     "text": [
      "2\n",
      "9\n",
      "17\n"
     ]
    }
   ],
   "source": [
    "list1 = [2, 5, 7, 9, 10]\n",
    "print(list1[0])\n",
    "print(list1[3])\n",
    "print(list1[2]+list1[-1]) # -1은 뒤에서 첫번째"
   ]
  },
  {
   "cell_type": "markdown",
   "id": "72a8039d",
   "metadata": {},
   "source": [
    "list2에서 변수 temp에 ['a','b','c']를 저장하고 출력하시오"
   ]
  },
  {
   "cell_type": "code",
   "execution_count": 36,
   "id": "c37c01b3",
   "metadata": {},
   "outputs": [
    {
     "data": {
      "text/plain": [
       "[1, 2, 3, ['a', 'b', 'c']]"
      ]
     },
     "execution_count": 36,
     "metadata": {},
     "output_type": "execute_result"
    }
   ],
   "source": [
    "list2 = [1, 2, 3, ['a','b','c']]\n",
    "list2"
   ]
  },
  {
   "cell_type": "code",
   "execution_count": 37,
   "id": "c0e18248",
   "metadata": {
    "scrolled": true
   },
   "outputs": [
    {
     "data": {
      "text/plain": [
       "['a', 'b', 'c']"
      ]
     },
     "execution_count": 37,
     "metadata": {},
     "output_type": "execute_result"
    }
   ],
   "source": [
    "temp = list2[3]\n",
    "temp"
   ]
  },
  {
   "cell_type": "markdown",
   "id": "fb1241f8",
   "metadata": {},
   "source": [
    "list2에서 문자'b'만 뽑아서 출력하시오"
   ]
  },
  {
   "cell_type": "code",
   "execution_count": 39,
   "id": "4834ea89",
   "metadata": {},
   "outputs": [
    {
     "name": "stdout",
     "output_type": "stream",
     "text": [
      "b\n",
      "b\n"
     ]
    }
   ],
   "source": [
    "print(temp[1])\n",
    "print(list2[3][1])"
   ]
  },
  {
   "cell_type": "markdown",
   "id": "f50e4229",
   "metadata": {},
   "source": [
    "## 리스트[start 인덱스 : end 인덱스]\n",
    "- start 인덱스부터 end 인덱스 바로 전까지 값 반환 (start <= x < end)\n",
    "- 스타트이상 앤드미만이라고 생각하면 됨"
   ]
  },
  {
   "cell_type": "code",
   "execution_count": 41,
   "id": "933a5974",
   "metadata": {},
   "outputs": [
    {
     "data": {
      "text/plain": [
       "[1, 2]"
      ]
     },
     "execution_count": 41,
     "metadata": {},
     "output_type": "execute_result"
    }
   ],
   "source": [
    "list3 = [0,1,2,3,4]\n",
    "list3[1:3] # 1부터 3번째 전까지 "
   ]
  },
  {
   "cell_type": "code",
   "execution_count": 43,
   "id": "24bff40a",
   "metadata": {},
   "outputs": [
    {
     "data": {
      "text/plain": [
       "[0, 1]"
      ]
     },
     "execution_count": 43,
     "metadata": {},
     "output_type": "execute_result"
    }
   ],
   "source": [
    "list3[:2] # 2번째 전까지"
   ]
  },
  {
   "cell_type": "code",
   "execution_count": 45,
   "id": "0a583950",
   "metadata": {},
   "outputs": [
    {
     "data": {
      "text/plain": [
       "[3, 4]"
      ]
     },
     "execution_count": 45,
     "metadata": {},
     "output_type": "execute_result"
    }
   ],
   "source": [
    "list3[3:] # 3부터 끝까지"
   ]
  },
  {
   "cell_type": "code",
   "execution_count": 46,
   "id": "29beea62",
   "metadata": {},
   "outputs": [
    {
     "data": {
      "text/plain": [
       "[3]"
      ]
     },
     "execution_count": 46,
     "metadata": {},
     "output_type": "execute_result"
    }
   ],
   "source": [
    "list3[3:4] # 3부터 4전까지"
   ]
  },
  {
   "cell_type": "markdown",
   "id": "1cb29769",
   "metadata": {},
   "source": [
    "리스트 더하기"
   ]
  },
  {
   "cell_type": "code",
   "execution_count": 48,
   "id": "155f1ad5",
   "metadata": {},
   "outputs": [
    {
     "data": {
      "text/plain": [
       "[1, 2, 3, 3, 4, 5, 6]"
      ]
     },
     "execution_count": 48,
     "metadata": {},
     "output_type": "execute_result"
    }
   ],
   "source": [
    "list4 = [1,2,3]\n",
    "list5 = [3,4,5,6]\n",
    "list4 + list5"
   ]
  },
  {
   "cell_type": "markdown",
   "id": "3389248d",
   "metadata": {},
   "source": [
    "## 리스트 함수"
   ]
  },
  {
   "cell_type": "markdown",
   "id": "44288a15",
   "metadata": {},
   "source": [
    "## 리스트.append(값)\n",
    "- 맨 뒤에 값 추가"
   ]
  },
  {
   "cell_type": "code",
   "execution_count": 49,
   "id": "a76d6ea7",
   "metadata": {},
   "outputs": [
    {
     "data": {
      "text/plain": [
       "[0, 1, 2, 3, 4, 5]"
      ]
     },
     "execution_count": 49,
     "metadata": {},
     "output_type": "execute_result"
    }
   ],
   "source": [
    "list5 = [0,1,2,3,4]\n",
    "list5.append(5)\n",
    "list5"
   ]
  },
  {
   "cell_type": "code",
   "execution_count": 50,
   "id": "09f0309d",
   "metadata": {},
   "outputs": [
    {
     "data": {
      "text/plain": [
       "[0, 1, 2, 3, 4, 5, 6]"
      ]
     },
     "execution_count": 50,
     "metadata": {},
     "output_type": "execute_result"
    }
   ],
   "source": [
    "list5.append(6)\n",
    "list5"
   ]
  },
  {
   "cell_type": "markdown",
   "id": "344b1671",
   "metadata": {},
   "source": [
    "## 리스트.insert(인덱스, 값)\n",
    "- 인덱스 위치에 값 추가"
   ]
  },
  {
   "cell_type": "code",
   "execution_count": 52,
   "id": "4415df84",
   "metadata": {},
   "outputs": [
    {
     "data": {
      "text/plain": [
       "[0, 5, 1, 2, 3, 4]"
      ]
     },
     "execution_count": 52,
     "metadata": {},
     "output_type": "execute_result"
    }
   ],
   "source": [
    "list5 = [0,1,2,3,4]\n",
    "list5.insert(1,5) # 1번째자리에 5추가\n",
    "list5"
   ]
  },
  {
   "cell_type": "code",
   "execution_count": 53,
   "id": "929bc4d5",
   "metadata": {},
   "outputs": [
    {
     "data": {
      "text/plain": [
       "[0, 5, 1, 2, 3, 6, 4]"
      ]
     },
     "execution_count": 53,
     "metadata": {},
     "output_type": "execute_result"
    }
   ],
   "source": [
    "list5.insert(5,6)\n",
    "list5"
   ]
  },
  {
   "cell_type": "markdown",
   "id": "96abbff3",
   "metadata": {},
   "source": [
    "## list 값 수정"
   ]
  },
  {
   "cell_type": "code",
   "execution_count": 59,
   "id": "ffbdfc37",
   "metadata": {},
   "outputs": [
    {
     "data": {
      "text/plain": [
       "[0, 1, 2, 3, 4]"
      ]
     },
     "execution_count": 59,
     "metadata": {},
     "output_type": "execute_result"
    }
   ],
   "source": [
    "list6 = [0,1,2,3,4]\n",
    "list6"
   ]
  },
  {
   "cell_type": "code",
   "execution_count": 60,
   "id": "be9e1237",
   "metadata": {},
   "outputs": [
    {
     "name": "stdout",
     "output_type": "stream",
     "text": [
      "수정 전 : 1\n",
      "수정 후 : 7\n"
     ]
    },
    {
     "data": {
      "text/plain": [
       "[0, 7, 2, 3, 4]"
      ]
     },
     "execution_count": 60,
     "metadata": {},
     "output_type": "execute_result"
    }
   ],
   "source": [
    "print(\"수정 전 :\",list6[1])\n",
    "list6[1] = 7\n",
    "print(\"수정 후 :\",list6[1])\n",
    "list6"
   ]
  },
  {
   "cell_type": "code",
   "execution_count": 61,
   "id": "15f826ea",
   "metadata": {},
   "outputs": [
    {
     "name": "stdout",
     "output_type": "stream",
     "text": [
      "[2, 3]\n"
     ]
    },
    {
     "data": {
      "text/plain": [
       "[0, 7, 7, 4]"
      ]
     },
     "execution_count": 61,
     "metadata": {},
     "output_type": "execute_result"
    }
   ],
   "source": [
    "print(list6[2:4])\n",
    "list6[2:4]=[7] # 슬라이싱해서 값을 넣을땐 같은 타입인 리스트 타입으로 넣어줘야함, 그래서 7을 대괄호로 감싸야함\n",
    "list6"
   ]
  },
  {
   "cell_type": "markdown",
   "id": "4b8b3c6d",
   "metadata": {},
   "source": [
    "## 리스트 값 삭제 (2가지)\n",
    "- del 키워드이용\n",
    "- 리스트.remove(값)"
   ]
  },
  {
   "cell_type": "code",
   "execution_count": 64,
   "id": "59a7e955",
   "metadata": {},
   "outputs": [
    {
     "data": {
      "text/plain": [
       "[0, 2, 3, 4, 5]"
      ]
     },
     "execution_count": 64,
     "metadata": {},
     "output_type": "execute_result"
    }
   ],
   "source": [
    "list7 = [0,1,2,3,4,5]\n",
    "del list7[1] # 인덱스 1번의 값을 삭제\n",
    "list7"
   ]
  },
  {
   "cell_type": "code",
   "execution_count": 66,
   "id": "95413f9d",
   "metadata": {},
   "outputs": [
    {
     "data": {
      "text/plain": [
       "[0, 5]"
      ]
     },
     "execution_count": 66,
     "metadata": {},
     "output_type": "execute_result"
    }
   ],
   "source": [
    "list7 = [0, 1, 2, 3, 4 ,5]\n",
    "del list7[1:5]\n",
    "list7"
   ]
  },
  {
   "cell_type": "code",
   "execution_count": 67,
   "id": "ba885a6f",
   "metadata": {},
   "outputs": [
    {
     "data": {
      "text/plain": [
       "['a', 'c', 'd', 'e']"
      ]
     },
     "execution_count": 67,
     "metadata": {},
     "output_type": "execute_result"
    }
   ],
   "source": [
    "list7 = ['a','b','c','d','e']\n",
    "list7.remove('b')\n",
    "list7"
   ]
  },
  {
   "cell_type": "code",
   "execution_count": 69,
   "id": "6d9c0cb6",
   "metadata": {},
   "outputs": [
    {
     "ename": "ValueError",
     "evalue": "list.remove(x): x not in list",
     "output_type": "error",
     "traceback": [
      "\u001b[1;31m---------------------------------------------------------------------------\u001b[0m",
      "\u001b[1;31mValueError\u001b[0m                                Traceback (most recent call last)",
      "Cell \u001b[1;32mIn[69], line 1\u001b[0m\n\u001b[1;32m----> 1\u001b[0m list7\u001b[38;5;241m.\u001b[39mremove(\u001b[38;5;124m'\u001b[39m\u001b[38;5;124mb\u001b[39m\u001b[38;5;124m'\u001b[39m)\n",
      "\u001b[1;31mValueError\u001b[0m: list.remove(x): x not in list"
     ]
    }
   ],
   "source": [
    "list7.remove('b') # 이미 인덱스 b를 삭제한 상태에서 다시 삭제하려고 하면 value에러"
   ]
  },
  {
   "cell_type": "markdown",
   "id": "cf97e1dc",
   "metadata": {},
   "source": [
    "## 리스트.sort() \n",
    "- 리스트에 있는 값을 오름차순으로 정렬"
   ]
  },
  {
   "cell_type": "code",
   "execution_count": 70,
   "id": "650500ff",
   "metadata": {},
   "outputs": [
    {
     "data": {
      "text/plain": [
       "[9, 77, 13, 51, 100, 3]"
      ]
     },
     "execution_count": 70,
     "metadata": {},
     "output_type": "execute_result"
    }
   ],
   "source": [
    "list8 = [9,77,13,51,100,3]\n",
    "list8"
   ]
  },
  {
   "cell_type": "code",
   "execution_count": 72,
   "id": "6182a069",
   "metadata": {},
   "outputs": [
    {
     "data": {
      "text/plain": [
       "[3, 9, 13, 51, 77, 100]"
      ]
     },
     "execution_count": 72,
     "metadata": {},
     "output_type": "execute_result"
    }
   ],
   "source": [
    "list8.sort()\n",
    "list8 # 인덱스가 오름차순으로 정렬되서 작은값부터 큰값순으로 정리됨"
   ]
  },
  {
   "cell_type": "markdown",
   "id": "92b5890b",
   "metadata": {},
   "source": [
    "## 리스트.reverse()\n",
    "- 리스트에 있는 값을 역순으로 뒤집음"
   ]
  },
  {
   "cell_type": "code",
   "execution_count": 73,
   "id": "b97e320f",
   "metadata": {},
   "outputs": [
    {
     "data": {
      "text/plain": [
       "[9, 77, 13, 51, 100, 3]"
      ]
     },
     "execution_count": 73,
     "metadata": {},
     "output_type": "execute_result"
    }
   ],
   "source": [
    "list9 = [9,77,13,51,100,3]\n",
    "list9"
   ]
  },
  {
   "cell_type": "code",
   "execution_count": 75,
   "id": "1eac9d40",
   "metadata": {},
   "outputs": [
    {
     "data": {
      "text/plain": [
       "[9, 77, 13, 51, 100, 3]"
      ]
     },
     "execution_count": 75,
     "metadata": {},
     "output_type": "execute_result"
    }
   ],
   "source": [
    "list9.reverse()\n",
    "list9 # 인덱스가 역순으로 뒤집은 순서로 나옴"
   ]
  },
  {
   "cell_type": "markdown",
   "id": "c374743a",
   "metadata": {},
   "source": [
    "## 리스트.sort()와 리스트.reverse()를 같이 이용\n",
    "- 리스트에 있는 값을 내림차순으로 정렬"
   ]
  },
  {
   "cell_type": "code",
   "execution_count": 76,
   "id": "654ba4b8",
   "metadata": {},
   "outputs": [
    {
     "data": {
      "text/plain": [
       "[9, 77, 13, 51, 100, 30]"
      ]
     },
     "execution_count": 76,
     "metadata": {},
     "output_type": "execute_result"
    }
   ],
   "source": [
    "list10 = [9,77,13,51,100,30]\n",
    "list10"
   ]
  },
  {
   "cell_type": "code",
   "execution_count": 77,
   "id": "28710882",
   "metadata": {
    "scrolled": true
   },
   "outputs": [
    {
     "data": {
      "text/plain": [
       "[9, 13, 30, 51, 77, 100]"
      ]
     },
     "execution_count": 77,
     "metadata": {},
     "output_type": "execute_result"
    }
   ],
   "source": [
    "list10.sort()\n",
    "list10"
   ]
  },
  {
   "cell_type": "code",
   "execution_count": 80,
   "id": "eaa52a35",
   "metadata": {
    "scrolled": true
   },
   "outputs": [
    {
     "data": {
      "text/plain": [
       "[100, 77, 51, 30, 13, 9]"
      ]
     },
     "execution_count": 80,
     "metadata": {},
     "output_type": "execute_result"
    }
   ],
   "source": [
    "list10.reverse()\n",
    "list10 # 리스트가 sort로 오름차순 정렬된상태에서 reverse로 역순으로 뒤집으면 자동으로 내림차순 정렬이 됨"
   ]
  },
  {
   "cell_type": "markdown",
   "id": "05cad855",
   "metadata": {},
   "source": [
    "## 리스트.index()\n",
    "- 찾고자 하는 값의 위치 반환"
   ]
  },
  {
   "cell_type": "code",
   "execution_count": 82,
   "id": "182cf159",
   "metadata": {},
   "outputs": [
    {
     "data": {
      "text/plain": [
       "2"
      ]
     },
     "execution_count": 82,
     "metadata": {},
     "output_type": "execute_result"
    }
   ],
   "source": [
    "list11 = ['a','b','c','d','e','f']\n",
    "list11.index('c') # c는 2번째 위치"
   ]
  },
  {
   "cell_type": "markdown",
   "id": "ca0c4acf",
   "metadata": {},
   "source": [
    "## 리스트.pop()\n",
    "- 마지막 값을 반환 후 리스트에서 제거"
   ]
  },
  {
   "cell_type": "code",
   "execution_count": 83,
   "id": "4aec2ffe",
   "metadata": {},
   "outputs": [
    {
     "data": {
      "text/plain": [
       "'f'"
      ]
     },
     "execution_count": 83,
     "metadata": {},
     "output_type": "execute_result"
    }
   ],
   "source": [
    "list12 = ['a','b','c','d','e','f']\n",
    "list12.pop()"
   ]
  },
  {
   "cell_type": "code",
   "execution_count": 85,
   "id": "2069892f",
   "metadata": {},
   "outputs": [
    {
     "data": {
      "text/plain": [
       "['a', 'b', 'c', 'd', 'e']"
      ]
     },
     "execution_count": 85,
     "metadata": {},
     "output_type": "execute_result"
    }
   ],
   "source": [
    "list12 # 위에서 마지막 값인 f가 출력되면서 삭제되어서 다시 list2를 출력하면 f가 없음"
   ]
  },
  {
   "cell_type": "markdown",
   "id": "30678f83",
   "metadata": {},
   "source": [
    "## len(리스트)\n",
    "- 리스트의 값 개수 반환"
   ]
  },
  {
   "cell_type": "code",
   "execution_count": 86,
   "id": "b099a673",
   "metadata": {},
   "outputs": [
    {
     "data": {
      "text/plain": [
       "3"
      ]
     },
     "execution_count": 86,
     "metadata": {},
     "output_type": "execute_result"
    }
   ],
   "source": [
    "list13 = [0,1,2]\n",
    "len(list13)"
   ]
  },
  {
   "cell_type": "code",
   "execution_count": 87,
   "id": "e7a7434e",
   "metadata": {},
   "outputs": [
    {
     "data": {
      "text/plain": [
       "6"
      ]
     },
     "execution_count": 87,
     "metadata": {},
     "output_type": "execute_result"
    }
   ],
   "source": [
    "list14 = ['a','b','c','d','e','f']\n",
    "len(list14)"
   ]
  },
  {
   "cell_type": "markdown",
   "id": "6b14ecc8",
   "metadata": {},
   "source": [
    "## 튜플(tulpe)\n",
    "- 소괄호 () 로 작성되어지며, 튜플의 내부 값은 콤마(,)으로 구분\n",
    "- 추가,수정,삭제 불가능 (읽기전용)"
   ]
  },
  {
   "cell_type": "markdown",
   "id": "92ed6c28",
   "metadata": {},
   "source": [
    "## 튜플[인덱스]\n",
    "- 인덱스에 위치한 값 반환"
   ]
  },
  {
   "cell_type": "code",
   "execution_count": 89,
   "id": "094a51ac",
   "metadata": {},
   "outputs": [
    {
     "data": {
      "text/plain": [
       "2"
      ]
     },
     "execution_count": 89,
     "metadata": {},
     "output_type": "execute_result"
    }
   ],
   "source": [
    "tuple = (0,1,2,3,('a','b','c'),5)\n",
    "tuple[2] \n",
    "# 튜플은 인덱스가 소괄호로 작성되어 지지만, 값을 불러올때는 리스트와 마찬가지로 대괄호로 불러옴"
   ]
  },
  {
   "cell_type": "code",
   "execution_count": 90,
   "id": "a0acdb96",
   "metadata": {},
   "outputs": [
    {
     "data": {
      "text/plain": [
       "('a', 'b', 'c')"
      ]
     },
     "execution_count": 90,
     "metadata": {},
     "output_type": "execute_result"
    }
   ],
   "source": [
    "tuple[4]"
   ]
  },
  {
   "cell_type": "markdown",
   "id": "5bf50866",
   "metadata": {},
   "source": [
    "튜플 슬라이싱과 len도 리스트의 슬라이싱과 같음"
   ]
  },
  {
   "cell_type": "markdown",
   "id": "cfb698f9",
   "metadata": {},
   "source": [
    "## 리스트와 튜플의 공통점과 차이점\n",
    "\n",
    "공통점\n",
    "- 타입과 상관없이 일련의 요소(Element)를 갖을 수 있다\n",
    "- 요소의 순서를 관리한다\n",
    "\n",
    "차이점\n",
    "- 리스트는 가변적(mutable)이며, 튜플은 불변적(immutable)\n",
    "- 리스트는 요소가 몇 개 들어갈지 명확하지 않은 경우에 사용\n",
    "- 튜플은 요소 개수를 사전에 정확히 알고 있을 경우에 사용"
   ]
  },
  {
   "cell_type": "markdown",
   "id": "970c8507",
   "metadata": {},
   "source": [
    "## 조건문에서 사용되는 in 과 not in\n",
    "\n",
    "in : 찾고자 하는값(x)이 포함 되어 있으면 true, (x in 문자열or리스트or튜플) <br> \n",
    "not in : 찾고자 하는 값(x)이 포함되어 있지 않으면 true, (x not in 문자열or리스트or튜플)"
   ]
  },
  {
   "cell_type": "code",
   "execution_count": 93,
   "id": "a5728572",
   "metadata": {},
   "outputs": [
    {
     "name": "stdout",
     "output_type": "stream",
     "text": [
      "True\n",
      "False\n"
     ]
    }
   ],
   "source": [
    "str1 = \"파이썬 최고\"\n",
    "print(\"파이썬\" in str1)\n",
    "print(\"파이썬\" not in str1)"
   ]
  },
  {
   "cell_type": "code",
   "execution_count": 94,
   "id": "d59cb2d7",
   "metadata": {},
   "outputs": [
    {
     "name": "stdout",
     "output_type": "stream",
     "text": [
      "False\n",
      "True\n"
     ]
    }
   ],
   "source": [
    "list1 = [77,38,10]\n",
    "print(33 in list1)\n",
    "print(33 not in list1)"
   ]
  },
  {
   "cell_type": "markdown",
   "id": "99e27102",
   "metadata": {},
   "source": [
    "## 반복문\n",
    "while문\n",
    "- 반복 횟수가 명확하지 않을때 <br>\n",
    "\n",
    "for문\n",
    "- 반복 횟수가 명확할때"
   ]
  },
  {
   "cell_type": "markdown",
   "id": "af16e127",
   "metadata": {},
   "source": [
    "반복문 실습 예제\n",
    "- 1부터 1000까지 출력하시오"
   ]
  },
  {
   "cell_type": "code",
   "execution_count": 157,
   "id": "27410247",
   "metadata": {},
   "outputs": [
    {
     "name": "stdout",
     "output_type": "stream",
     "text": [
      "1\n",
      "2\n",
      "3\n",
      "4\n",
      "5\n",
      "6\n",
      "7\n",
      "8\n",
      "9\n",
      "10\n",
      "11\n",
      "12\n",
      "13\n",
      "14\n",
      "15\n",
      "16\n",
      "17\n",
      "18\n",
      "19\n",
      "20\n",
      "21\n",
      "22\n",
      "23\n",
      "24\n",
      "25\n",
      "26\n",
      "27\n",
      "28\n",
      "29\n",
      "30\n",
      "31\n",
      "32\n",
      "33\n",
      "34\n",
      "35\n",
      "36\n",
      "37\n",
      "38\n",
      "39\n",
      "40\n",
      "41\n",
      "42\n",
      "43\n",
      "44\n",
      "45\n",
      "46\n",
      "47\n",
      "48\n",
      "49\n",
      "50\n",
      "51\n",
      "52\n",
      "53\n",
      "54\n",
      "55\n",
      "56\n",
      "57\n",
      "58\n",
      "59\n",
      "60\n",
      "61\n",
      "62\n",
      "63\n",
      "64\n",
      "65\n",
      "66\n",
      "67\n",
      "68\n",
      "69\n",
      "70\n",
      "71\n",
      "72\n",
      "73\n",
      "74\n",
      "75\n",
      "76\n",
      "77\n",
      "78\n",
      "79\n",
      "80\n",
      "81\n",
      "82\n",
      "83\n",
      "84\n",
      "85\n",
      "86\n",
      "87\n",
      "88\n",
      "89\n",
      "90\n",
      "91\n",
      "92\n",
      "93\n",
      "94\n",
      "95\n",
      "96\n",
      "97\n",
      "98\n",
      "99\n",
      "100\n"
     ]
    }
   ],
   "source": [
    "for i in range(1,101): # 1 부터 1000까지 반복해줌\n",
    "    print(i)"
   ]
  },
  {
   "cell_type": "markdown",
   "id": "a3f41fd4",
   "metadata": {},
   "source": [
    "## while\n",
    "- 조건식이 True일경우 반복\n",
    "- break를 만나면 반복문을 나감"
   ]
  },
  {
   "cell_type": "code",
   "execution_count": 97,
   "id": "189d5ea2",
   "metadata": {},
   "outputs": [
    {
     "name": "stdout",
     "output_type": "stream",
     "text": [
      "1\n",
      "2\n",
      "3\n"
     ]
    }
   ],
   "source": [
    "number = 1\n",
    "while number <= 3:\n",
    "    print(number)\n",
    "    number += 1"
   ]
  },
  {
   "cell_type": "markdown",
   "id": "1fc17e33",
   "metadata": {},
   "source": [
    "while문을 사용해서 \"파이썬 최고!!\"를 13번 출력하시오"
   ]
  },
  {
   "cell_type": "code",
   "execution_count": 101,
   "id": "db55a2f3",
   "metadata": {
    "scrolled": true
   },
   "outputs": [
    {
     "name": "stdout",
     "output_type": "stream",
     "text": [
      "파이썬 최고!!\n",
      "파이썬 최고!!\n",
      "파이썬 최고!!\n",
      "파이썬 최고!!\n",
      "파이썬 최고!!\n",
      "파이썬 최고!!\n",
      "파이썬 최고!!\n",
      "파이썬 최고!!\n",
      "파이썬 최고!!\n",
      "파이썬 최고!!\n",
      "파이썬 최고!!\n",
      "파이썬 최고!!\n",
      "파이썬 최고!!\n"
     ]
    }
   ],
   "source": [
    "number=0\n",
    "while number < 13:\n",
    "    print(\"파이썬 최고!!\")\n",
    "    number += 1"
   ]
  },
  {
   "cell_type": "code",
   "execution_count": 102,
   "id": "fa11943e",
   "metadata": {},
   "outputs": [
    {
     "name": "stdout",
     "output_type": "stream",
     "text": [
      "무한루프\n"
     ]
    }
   ],
   "source": [
    "while True :\n",
    "    print(\"무한루프\")\n",
    "    break"
   ]
  },
  {
   "cell_type": "code",
   "execution_count": 103,
   "id": "ef93982a",
   "metadata": {},
   "outputs": [
    {
     "name": "stdout",
     "output_type": "stream",
     "text": [
      "1\n",
      "2\n",
      "3\n"
     ]
    }
   ],
   "source": [
    "number = 1\n",
    "while True :\n",
    "    print(number)\n",
    "    number += 1\n",
    "    if number > 3:\n",
    "        break"
   ]
  },
  {
   "cell_type": "markdown",
   "id": "99a705e2",
   "metadata": {},
   "source": [
    "두개의 정수를 입력 받아서 더하는 코드를 작성하시오 <br>\n",
    "단, 두개의 정수가 0이 들어올 때 까지 반복한다"
   ]
  },
  {
   "cell_type": "code",
   "execution_count": 106,
   "id": "9d60a225",
   "metadata": {},
   "outputs": [
    {
     "name": "stdout",
     "output_type": "stream",
     "text": [
      "첫번째 정수 입력>>3\n",
      "두번째 정수 입력>>5\n",
      "두 정수의 합 : 8\n",
      "첫번째 정수 입력>>6\n",
      "두번째 정수 입력>>6\n",
      "두 정수의 합 : 12\n",
      "첫번째 정수 입력>>0\n",
      "두번째 정수 입력>>0\n",
      "프로그램이 종료되었습니다\n"
     ]
    }
   ],
   "source": [
    "result=0\n",
    "while True :\n",
    "    num1=int(input(\"첫번째 정수 입력>>\"))\n",
    "    num2=int(input(\"두번째 정수 입력>>\"))\n",
    "    \n",
    "    if num1==0 and num2==0:\n",
    "        break\n",
    "        \n",
    "    print(\"두 정수의 합 : {}\".format(num1+num2))\n",
    "print(\"프로그램이 종료되었습니다\")"
   ]
  },
  {
   "cell_type": "markdown",
   "id": "fafaaed0",
   "metadata": {},
   "source": [
    "## for문\n",
    "- 문자열 또는 리스트 또는 튜플이 들어갔을때 안에 있는 요소를 하나씩 반복\n",
    "- for 변수 in 문자열(or 리스트 or 튜플): <br>\n",
    "    print(변수)"
   ]
  },
  {
   "cell_type": "markdown",
   "id": "5afc22ce",
   "metadata": {},
   "source": [
    "for문 예시"
   ]
  },
  {
   "cell_type": "code",
   "execution_count": 107,
   "id": "0bf9ee12",
   "metadata": {},
   "outputs": [
    {
     "name": "stdout",
     "output_type": "stream",
     "text": [
      "햄버거\n",
      "치킨\n",
      "피자\n"
     ]
    }
   ],
   "source": [
    "list_food = [\"햄버거\",\"치킨\",\"피자\"]\n",
    "for food in list_food :\n",
    "    print(food)"
   ]
  },
  {
   "cell_type": "code",
   "execution_count": 108,
   "id": "602de2d7",
   "metadata": {},
   "outputs": [
    {
     "name": "stdout",
     "output_type": "stream",
     "text": [
      "안\n",
      "녕\n",
      "하\n",
      "세\n",
      "요\n"
     ]
    }
   ],
   "source": [
    "hi = \"안녕하세요\"\n",
    "for s in hi:\n",
    "    print(s)"
   ]
  },
  {
   "cell_type": "code",
   "execution_count": 110,
   "id": "aec61776",
   "metadata": {},
   "outputs": [
    {
     "name": "stdout",
     "output_type": "stream",
     "text": [
      "햄버거\n",
      "치킨\n",
      "피자\n"
     ]
    }
   ],
   "source": [
    "tuple_food = (\"햄버거\",\"치킨\",\"피자\")\n",
    "for food in tuple_food:\n",
    "    print(food)"
   ]
  },
  {
   "cell_type": "markdown",
   "id": "a4ef5660",
   "metadata": {},
   "source": [
    "5명에 대한 정보처리기사 자격증 시험점수가 리스트에 담겨있습니다 <br>\n",
    "이때 각 점수가 합격점수인지 불합격 점수인지 판별하여 출력하시오 <br>\n",
    "(60점 이상 합격)"
   ]
  },
  {
   "cell_type": "code",
   "execution_count": 118,
   "id": "72fc33a2",
   "metadata": {},
   "outputs": [
    {
     "name": "stdout",
     "output_type": "stream",
     "text": [
      "1번 학생은 합격 입니다\n",
      "2번 학생은 불합격 입니다\n",
      "3번 학생은 합격 입니다\n",
      "4번 학생은 합격 입니다\n",
      "5번 학생은 불합격 입니다\n"
     ]
    }
   ],
   "source": [
    "score_list = [90,45,70,60,55]\n",
    "number = 1\n",
    "for score in score_list :\n",
    "    if score >= 60:\n",
    "        result = \"합격\"\n",
    "    else :\n",
    "        result = \"불합격\"\n",
    "    print(\"{}번 학생은 {} 입니다\".format(number, result))\n",
    "    number += 1"
   ]
  },
  {
   "cell_type": "markdown",
   "id": "cf9f0f80",
   "metadata": {},
   "source": [
    "## for문 range() 함수사용\n",
    "- 필요한 만큼의 숫자를 만들어내는 유용한 기능\n",
    "- range(시작할숫자,종료할 숫자,증가량)\n",
    "- range(1,10,1) -> 1부터 9까지 1씩 증가 -> [1,2,3,4,5,6,7,8,9] 리스트형식\n",
    "- range(1,100,3) -> 1부터 99까지 3씩 증가\n",
    "- range(10,1,-1) -> 10부터 2까지 1씩 감소 (-1씩 증가) "
   ]
  },
  {
   "cell_type": "code",
   "execution_count": 119,
   "id": "f9046443",
   "metadata": {},
   "outputs": [
    {
     "name": "stdout",
     "output_type": "stream",
     "text": [
      "1\n",
      "2\n",
      "3\n",
      "4\n",
      "5\n",
      "6\n",
      "7\n",
      "8\n",
      "9\n"
     ]
    }
   ],
   "source": [
    "for i in range(1,10,1):\n",
    "    print(i)"
   ]
  },
  {
   "cell_type": "markdown",
   "id": "acd751da",
   "metadata": {},
   "source": [
    "## print() 함수\n",
    "- end 속성"
   ]
  },
  {
   "cell_type": "code",
   "execution_count": 122,
   "id": "f1642591",
   "metadata": {},
   "outputs": [
    {
     "name": "stdout",
     "output_type": "stream",
     "text": [
      "1★2★3★4★5★6★7★8★9★"
     ]
    }
   ],
   "source": [
    "for i in range(1,10,1):\n",
    "    print(i,end=\"★\") # end는 기본값으로 \"\\n\" 설정되어있는데 그걸 바꾸면 다르게 출력됨"
   ]
  },
  {
   "cell_type": "markdown",
   "id": "aff39520",
   "metadata": {},
   "source": [
    "## range()함수\n",
    "- range(기본값0, 종료할숫자, 기본값1)\n",
    "- range(3,10) -> 3부터 9까지 1씩 증가\n",
    "- range(10) -> 0부터 9까지 1씩 증가"
   ]
  },
  {
   "cell_type": "code",
   "execution_count": 123,
   "id": "8e9f04cf",
   "metadata": {},
   "outputs": [
    {
     "name": "stdout",
     "output_type": "stream",
     "text": [
      "3 4 5 6 7 8 9 "
     ]
    }
   ],
   "source": [
    "for i in range(3,10):\n",
    "    print(i, end=\" \")"
   ]
  },
  {
   "cell_type": "code",
   "execution_count": 125,
   "id": "d7455f85",
   "metadata": {},
   "outputs": [
    {
     "name": "stdout",
     "output_type": "stream",
     "text": [
      "0 1 2 3 4 5 6 7 8 9 "
     ]
    }
   ],
   "source": [
    "for i in range(10): # 10번 반복해서 내부에 무언가를 하고싶을때 이런식으로 사용함\n",
    "    print(i, end=\" \")"
   ]
  },
  {
   "cell_type": "markdown",
   "id": "c5c55fad",
   "metadata": {},
   "source": [
    "1) for문을 이용하여 97부터 77까지 출력하시오 <br>\n",
    "2) for문을 이용하여 23부터 40까지 출력하시오"
   ]
  },
  {
   "cell_type": "code",
   "execution_count": 131,
   "id": "0f4ae313",
   "metadata": {},
   "outputs": [
    {
     "name": "stdout",
     "output_type": "stream",
     "text": [
      "97 96 95 94 93 92 91 90 89 88 87 86 85 84 83 82 81 80 79 78 77 "
     ]
    }
   ],
   "source": [
    "for i in range(97,76,-1):\n",
    "    print(i,end=\" \")"
   ]
  },
  {
   "cell_type": "code",
   "execution_count": 133,
   "id": "d42f3dd4",
   "metadata": {},
   "outputs": [
    {
     "name": "stdout",
     "output_type": "stream",
     "text": [
      "23 24 25 26 27 28 29 30 31 32 33 34 35 36 37 38 39 40 "
     ]
    }
   ],
   "source": [
    "for i in range(23,41): # i는 index의 줄임말\n",
    "    print(i,end=\" \")"
   ]
  },
  {
   "cell_type": "code",
   "execution_count": 134,
   "id": "2d92ef53",
   "metadata": {},
   "outputs": [
    {
     "name": "stdout",
     "output_type": "stream",
     "text": [
      "1 2\n",
      "3 4\n",
      "5 6\n"
     ]
    }
   ],
   "source": [
    "list1 = [[1,2],[3,4],[5,6]]\n",
    "for i,j in list1:\n",
    "    print(i,j)"
   ]
  },
  {
   "cell_type": "code",
   "execution_count": 135,
   "id": "23ea347b",
   "metadata": {},
   "outputs": [
    {
     "name": "stdout",
     "output_type": "stream",
     "text": [
      "1\n",
      "7\n"
     ]
    }
   ],
   "source": [
    "a, b = 1, 7\n",
    "print(a)\n",
    "print(b)"
   ]
  },
  {
   "cell_type": "markdown",
   "id": "d16f3443",
   "metadata": {},
   "source": [
    "## for문 최종실습 예제\n",
    "while문 예제\n",
    "- 랜덤으로 1부터 50사이의 숫자를 뽑으면 뽑은 숫자를 맞추는 up,down게임 예제"
   ]
  },
  {
   "cell_type": "code",
   "execution_count": 136,
   "id": "b8775e5d",
   "metadata": {},
   "outputs": [],
   "source": [
    "import random #랜덤 라이브러리 사용한다는 정의"
   ]
  },
  {
   "cell_type": "code",
   "execution_count": 139,
   "id": "f3c276ac",
   "metadata": {},
   "outputs": [
    {
     "data": {
      "text/plain": [
       "40"
      ]
     },
     "execution_count": 139,
     "metadata": {},
     "output_type": "execute_result"
    }
   ],
   "source": [
    "random.randint(1,50) #1부터 10까지 숫자중에 랜덤으로 출력"
   ]
  },
  {
   "cell_type": "code",
   "execution_count": 140,
   "id": "f1706ff5",
   "metadata": {},
   "outputs": [
    {
     "name": "stdout",
     "output_type": "stream",
     "text": [
      "숫자를 입력하세요 >>5\n",
      "5보다 큰 수 입니다\n",
      "숫자를 입력하세요 >>20\n",
      "20 보다 작은 수 입니다\n",
      "숫자를 입력하세요 >>15\n",
      "15보다 큰 수 입니다\n",
      "숫자를 입력하세요 >>17\n",
      "17 보다 작은 수 입니다\n",
      "숫자를 입력하세요 >>16\n",
      "정답 입니다!!\n"
     ]
    }
   ],
   "source": [
    "com_num = random.randint(1,50)\n",
    "\n",
    "while True:\n",
    "    num = int(input(\"숫자를 입력하세요 >>\"))\n",
    "    if num < com_num:\n",
    "        print(\"{}보다 큰 수 입니다\".format(num))\n",
    "    elif num > com_num:\n",
    "        print(\"{} 보다 작은 수 입니다\".format(num))\n",
    "    else :\n",
    "        print(\"정답 입니다!!\")\n",
    "        break"
   ]
  },
  {
   "cell_type": "markdown",
   "id": "bac2ea5c",
   "metadata": {},
   "source": [
    "for문 예제\n",
    "- 두개의 정수를 키보드로 입력 받아 첫번째 정수부터 두번째 정수까지 출력되는 소스코드를 작성하시오"
   ]
  },
  {
   "cell_type": "code",
   "execution_count": 144,
   "id": "777503bf",
   "metadata": {},
   "outputs": [
    {
     "name": "stdout",
     "output_type": "stream",
     "text": [
      "첫번째 정수 입력>>10\n",
      "두번째 정수 입력>>30\n",
      "10 11 12 13 14 15 16 17 18 19 20 21 22 23 24 25 26 27 28 29 30 "
     ]
    }
   ],
   "source": [
    "start = int(input(\"첫번째 정수 입력>>\"))\n",
    "end = int(input(\"두번째 정수 입력>>\"))\n",
    "for i in range(start,end+1):\n",
    "    print(i, end=\" \")"
   ]
  },
  {
   "cell_type": "markdown",
   "id": "7b679a11",
   "metadata": {},
   "source": [
    "1부터 100사이의 숫자 중 3의 배수인 값들의 합을 출력하세요\n",
    "- 정답 : 1683"
   ]
  },
  {
   "cell_type": "code",
   "execution_count": 146,
   "id": "24928e2c",
   "metadata": {
    "scrolled": true
   },
   "outputs": [
    {
     "name": "stdout",
     "output_type": "stream",
     "text": [
      "1683\n"
     ]
    }
   ],
   "source": [
    "sum=0\n",
    "for i in range(1,101):\n",
    "    if i%3==0:\n",
    "        sum += i\n",
    "print(sum)"
   ]
  },
  {
   "cell_type": "markdown",
   "id": "c1e57974",
   "metadata": {},
   "source": [
    "for문을 이용하여 구구단 2단을 출력하시오 <br>\n",
    "2 * 1 = 2<br>\n",
    "2 * 2 = 4<br>\n",
    "2 * 3 = 6<br>\n",
    "2 * 4 = 8<br>\n",
    "2 * 5 = 10<br>\n",
    "2 * 6 = 12<br>\n",
    "2 * 7 = 14<br>\n",
    "2 * 8 = 16<br>\n",
    "2 * 9 = 18<br>\n"
   ]
  },
  {
   "cell_type": "code",
   "execution_count": 149,
   "id": "fc47416a",
   "metadata": {},
   "outputs": [
    {
     "name": "stdout",
     "output_type": "stream",
     "text": [
      "2 * 1 = 2\n",
      "2 * 2 = 4\n",
      "2 * 3 = 6\n",
      "2 * 4 = 8\n",
      "2 * 5 = 10\n",
      "2 * 6 = 12\n",
      "2 * 7 = 14\n",
      "2 * 8 = 16\n",
      "2 * 9 = 18\n"
     ]
    }
   ],
   "source": [
    "for i in range(1,10):\n",
    "    print(\"2 * {} = {}\".format(i,i*2))"
   ]
  },
  {
   "cell_type": "markdown",
   "id": "c6615742",
   "metadata": {},
   "source": [
    "숫자를 입력 받고 입력받은 숫자의 약수를 구하시오\n",
    "- 약수란 어떤 수를 나누어 떨어지게 하는 수"
   ]
  },
  {
   "cell_type": "code",
   "execution_count": 156,
   "id": "8729ce78",
   "metadata": {},
   "outputs": [
    {
     "name": "stdout",
     "output_type": "stream",
     "text": [
      "정수 입력 >> 32\n",
      "약수 :  1 2 4 8 16 32 "
     ]
    }
   ],
   "source": [
    "num = int(input(\"정수 입력 >> \"))\n",
    "\n",
    "print(\"약수 :\", end=\"  \")\n",
    "for i in range(1,num+1):\n",
    "    if num%i==0:\n",
    "        print(i, end=\" \")"
   ]
  }
 ],
 "metadata": {
  "kernelspec": {
   "display_name": "Python 3 (ipykernel)",
   "language": "python",
   "name": "python3"
  },
  "language_info": {
   "codemirror_mode": {
    "name": "ipython",
    "version": 3
   },
   "file_extension": ".py",
   "mimetype": "text/x-python",
   "name": "python",
   "nbconvert_exporter": "python",
   "pygments_lexer": "ipython3",
   "version": "3.11.4"
  }
 },
 "nbformat": 4,
 "nbformat_minor": 5
}
